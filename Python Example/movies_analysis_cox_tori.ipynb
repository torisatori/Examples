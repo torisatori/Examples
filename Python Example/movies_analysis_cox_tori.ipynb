{
 "cells": [
  {
   "cell_type": "markdown",
   "metadata": {
    "collapsed": true
   },
   "source": [
    "# Movies Rating Analysis\n",
    "## Tori Cox"
   ]
  },
  {
   "cell_type": "code",
   "execution_count": 1,
   "metadata": {},
   "outputs": [],
   "source": [
    "%matplotlib inline\n",
    "import pandas as pd\n",
    "import numpy as np\n",
    "import matplotlib.pyplot as plt\n",
    "import scipy.stats as stats\n",
    "import statistics"
   ]
  },
  {
   "cell_type": "code",
   "execution_count": 2,
   "metadata": {},
   "outputs": [],
   "source": [
    "ratings = pd.read_table(\"data/ml-100k/u.data\", names=[\"userid\",\"itemid\",\"rating\",\"timestamp\"])"
   ]
  },
  {
   "cell_type": "code",
   "execution_count": 3,
   "metadata": {},
   "outputs": [],
   "source": [
    "items = pd.read_table(\"data/ml-100k/u.item\", sep=\"|\", names=[\"itemid\",\"movie\",\"releasedate\",\"videoreleasedate\",\"IMDbURL\",\"unknown\",\"action\",\"adventure\",\"animation\",\"childrens\",\"comedy\",\"crime\",\"documentary\",\"drama\",\"fantasy\",\"filmnoir\",\"horror\",\"musical\",\"mystery\",\"romance\",\"scifi\",\"thriller\",\"war\",\"western\"], encoding=\"ISO-8859-1\")"
   ]
  },
  {
   "cell_type": "markdown",
   "metadata": {
    "collapsed": true
   },
   "source": [
    " ## Movies with Median Rating of 5 \n",
    "\n",
    "To report the title of every movie in this data set with a median rating of 5, I used a pivot table to find each movie's mendian rating: "
   ]
  },
  {
   "cell_type": "code",
   "execution_count": 4,
   "metadata": {},
   "outputs": [],
   "source": [
    "medianRatings = ratings.pivot_table(index='itemid', values = 'rating', aggfunc='median')"
   ]
  },
  {
   "cell_type": "code",
   "execution_count": 5,
   "metadata": {},
   "outputs": [],
   "source": [
    "medianRatings = medianRatings.reset_index()"
   ]
  },
  {
   "cell_type": "code",
   "execution_count": 6,
   "metadata": {},
   "outputs": [],
   "source": [
    "merged = pd.merge(medianRatings, items, on = 'itemid')"
   ]
  },
  {
   "cell_type": "code",
   "execution_count": 7,
   "metadata": {},
   "outputs": [],
   "source": [
    "median5 = merged[merged['rating'] == 5.0]"
   ]
  },
  {
   "cell_type": "code",
   "execution_count": 8,
   "metadata": {},
   "outputs": [
    {
     "data": {
      "text/plain": [
       "11                             Usual Suspects, The (1995)\n",
       "49                                       Star Wars (1977)\n",
       "63                       Shawshank Redemption, The (1994)\n",
       "113     Wallace & Gromit: The Best of Aardman Animatio...\n",
       "118                Maya Lin: A Strong Clear Vision (1994)\n",
       "126                                 Godfather, The (1972)\n",
       "133                                   Citizen Kane (1941)\n",
       "168                            Wrong Trousers, The (1993)\n",
       "250                                Shall We Dance? (1996)\n",
       "312                                        Titanic (1997)\n",
       "317                               Schindler's List (1993)\n",
       "319     Paradise Lost: The Child Murders at Robin Hood...\n",
       "407                                 Close Shave, A (1995)\n",
       "482                                     Casablanca (1942)\n",
       "602                                    Rear Window (1954)\n",
       "813                         Great Day in Harlem, A (1994)\n",
       "1121                       They Made Me a Criminal (1939)\n",
       "1174                                     Hugo Pool (1997)\n",
       "1188                                   Prefontaine (1997)\n",
       "1190                      Letter From Death Row, A (1998)\n",
       "1200           Marlene Dietrich: Shadow and Light (1996) \n",
       "1292                                      Star Kid (1997)\n",
       "1366                                         Faust (1994)\n",
       "1448                               Pather Panchali (1955)\n",
       "1466                 Saint of Fort Washington, The (1993)\n",
       "1499                            Santa with Muscles (1996)\n",
       "1511               World of Apu, The (Apur Sansar) (1959)\n",
       "1535                                 Aiqing wansui (1994)\n",
       "1557                                     Aparajito (1956)\n",
       "1598                        Someone Else's America (1995)\n",
       "1652    Entertaining Angels: The Dorothy Day Story (1996)\n",
       "Name: movie, dtype: object"
      ]
     },
     "execution_count": 8,
     "metadata": {},
     "output_type": "execute_result"
    }
   ],
   "source": [
    "median5['movie']"
   ]
  },
  {
   "cell_type": "markdown",
   "metadata": {},
   "source": [
    "## Which genre of movie is most appreciated?\n",
    "\n",
    "My strategy for this problem was to create the pivot table with the aveage rating for each movie, merge it with the items table to add the names of the movies, and then I used for loops to calculate the mean, std, and var for each genre and create a list for each value.  Then I created a dictionary of the four lists (genre, rating, std, and var) and used pandas to convert that dictionary into a dataframe."
   ]
  },
  {
   "cell_type": "code",
   "execution_count": 9,
   "metadata": {},
   "outputs": [],
   "source": [
    "avgRatings = ratings.pivot_table(index='itemid', values = 'rating')"
   ]
  },
  {
   "cell_type": "code",
   "execution_count": 10,
   "metadata": {},
   "outputs": [],
   "source": [
    "merged2 = pd.merge(avgRatings, items, on = 'itemid')"
   ]
  },
  {
   "cell_type": "code",
   "execution_count": 11,
   "metadata": {},
   "outputs": [],
   "source": [
    "genres = [\"action\",\"adventure\",\"animation\",\"childrens\",\"comedy\",\"crime\",\"documentary\",\"drama\",\"fantasy\",\"filmnoir\",\"horror\",\"musical\",\"mystery\",\"romance\",\"scifi\",\"thriller\",\"war\",\"western\"]"
   ]
  },
  {
   "cell_type": "code",
   "execution_count": 12,
   "metadata": {},
   "outputs": [],
   "source": [
    "genreRatings = []\n",
    "for genre in genres:\n",
    "    avgRating = merged2[merged2[genre] == 1]['rating'].mean()\n",
    "    genreRatings.append(avgRating)"
   ]
  },
  {
   "cell_type": "code",
   "execution_count": 13,
   "metadata": {},
   "outputs": [],
   "source": [
    "StdList = []\n",
    "for genre in genres:\n",
    "    genreStd = merged2[merged2[genre] == 1]['rating'].std()\n",
    "    StdList.append(genreStd)"
   ]
  },
  {
   "cell_type": "code",
   "execution_count": 14,
   "metadata": {},
   "outputs": [],
   "source": [
    "VarList = []\n",
    "for genre in genres:\n",
    "    genreVar = merged2[merged2[genre] == 1]['rating'].var()\n",
    "    VarList.append(genreVar)"
   ]
  },
  {
   "cell_type": "code",
   "execution_count": 15,
   "metadata": {},
   "outputs": [],
   "source": [
    "genresDict = {\"Genre\":genres, \"Avg Rating\":genreRatings, \"Std\":StdList, \"Var\":VarList}"
   ]
  },
  {
   "cell_type": "code",
   "execution_count": 16,
   "metadata": {},
   "outputs": [],
   "source": [
    "genresRatings = pd.DataFrame(genresDict, columns=['Genre','Avg Rating','Std','Var'])"
   ]
  },
  {
   "cell_type": "code",
   "execution_count": 17,
   "metadata": {},
   "outputs": [
    {
     "data": {
      "text/html": [
       "<div>\n",
       "<style scoped>\n",
       "    .dataframe tbody tr th:only-of-type {\n",
       "        vertical-align: middle;\n",
       "    }\n",
       "\n",
       "    .dataframe tbody tr th {\n",
       "        vertical-align: top;\n",
       "    }\n",
       "\n",
       "    .dataframe thead th {\n",
       "        text-align: right;\n",
       "    }\n",
       "</style>\n",
       "<table border=\"1\" class=\"dataframe\">\n",
       "  <thead>\n",
       "    <tr style=\"text-align: right;\">\n",
       "      <th></th>\n",
       "      <th>Genre</th>\n",
       "      <th>Avg Rating</th>\n",
       "      <th>Std</th>\n",
       "      <th>Var</th>\n",
       "    </tr>\n",
       "  </thead>\n",
       "  <tbody>\n",
       "    <tr>\n",
       "      <th>0</th>\n",
       "      <td>action</td>\n",
       "      <td>2.966332</td>\n",
       "      <td>0.707861</td>\n",
       "      <td>0.501068</td>\n",
       "    </tr>\n",
       "    <tr>\n",
       "      <th>1</th>\n",
       "      <td>adventure</td>\n",
       "      <td>3.143967</td>\n",
       "      <td>0.623983</td>\n",
       "      <td>0.389355</td>\n",
       "    </tr>\n",
       "    <tr>\n",
       "      <th>2</th>\n",
       "      <td>animation</td>\n",
       "      <td>3.298813</td>\n",
       "      <td>0.645251</td>\n",
       "      <td>0.416348</td>\n",
       "    </tr>\n",
       "    <tr>\n",
       "      <th>3</th>\n",
       "      <td>childrens</td>\n",
       "      <td>2.916885</td>\n",
       "      <td>0.624512</td>\n",
       "      <td>0.390015</td>\n",
       "    </tr>\n",
       "    <tr>\n",
       "      <th>4</th>\n",
       "      <td>comedy</td>\n",
       "      <td>3.000565</td>\n",
       "      <td>0.719212</td>\n",
       "      <td>0.517266</td>\n",
       "    </tr>\n",
       "    <tr>\n",
       "      <th>5</th>\n",
       "      <td>crime</td>\n",
       "      <td>3.211015</td>\n",
       "      <td>0.700488</td>\n",
       "      <td>0.490683</td>\n",
       "    </tr>\n",
       "    <tr>\n",
       "      <th>6</th>\n",
       "      <td>documentary</td>\n",
       "      <td>3.229273</td>\n",
       "      <td>0.990266</td>\n",
       "      <td>0.980627</td>\n",
       "    </tr>\n",
       "    <tr>\n",
       "      <th>7</th>\n",
       "      <td>drama</td>\n",
       "      <td>3.187353</td>\n",
       "      <td>0.790183</td>\n",
       "      <td>0.624390</td>\n",
       "    </tr>\n",
       "    <tr>\n",
       "      <th>8</th>\n",
       "      <td>fantasy</td>\n",
       "      <td>2.849830</td>\n",
       "      <td>0.816855</td>\n",
       "      <td>0.667253</td>\n",
       "    </tr>\n",
       "    <tr>\n",
       "      <th>9</th>\n",
       "      <td>filmnoir</td>\n",
       "      <td>3.548351</td>\n",
       "      <td>0.832246</td>\n",
       "      <td>0.692633</td>\n",
       "    </tr>\n",
       "    <tr>\n",
       "      <th>10</th>\n",
       "      <td>horror</td>\n",
       "      <td>2.730157</td>\n",
       "      <td>0.759747</td>\n",
       "      <td>0.577216</td>\n",
       "    </tr>\n",
       "    <tr>\n",
       "      <th>11</th>\n",
       "      <td>musical</td>\n",
       "      <td>3.376423</td>\n",
       "      <td>0.520265</td>\n",
       "      <td>0.270676</td>\n",
       "    </tr>\n",
       "    <tr>\n",
       "      <th>12</th>\n",
       "      <td>mystery</td>\n",
       "      <td>3.336814</td>\n",
       "      <td>0.734247</td>\n",
       "      <td>0.539118</td>\n",
       "    </tr>\n",
       "    <tr>\n",
       "      <th>13</th>\n",
       "      <td>romance</td>\n",
       "      <td>3.244049</td>\n",
       "      <td>0.668985</td>\n",
       "      <td>0.447541</td>\n",
       "    </tr>\n",
       "    <tr>\n",
       "      <th>14</th>\n",
       "      <td>scifi</td>\n",
       "      <td>3.165446</td>\n",
       "      <td>0.666164</td>\n",
       "      <td>0.443774</td>\n",
       "    </tr>\n",
       "    <tr>\n",
       "      <th>15</th>\n",
       "      <td>thriller</td>\n",
       "      <td>3.136692</td>\n",
       "      <td>0.713087</td>\n",
       "      <td>0.508494</td>\n",
       "    </tr>\n",
       "    <tr>\n",
       "      <th>16</th>\n",
       "      <td>war</td>\n",
       "      <td>3.489185</td>\n",
       "      <td>0.673311</td>\n",
       "      <td>0.453348</td>\n",
       "    </tr>\n",
       "    <tr>\n",
       "      <th>17</th>\n",
       "      <td>western</td>\n",
       "      <td>3.185617</td>\n",
       "      <td>0.731890</td>\n",
       "      <td>0.535663</td>\n",
       "    </tr>\n",
       "  </tbody>\n",
       "</table>\n",
       "</div>"
      ],
      "text/plain": [
       "          Genre  Avg Rating       Std       Var\n",
       "0        action    2.966332  0.707861  0.501068\n",
       "1     adventure    3.143967  0.623983  0.389355\n",
       "2     animation    3.298813  0.645251  0.416348\n",
       "3     childrens    2.916885  0.624512  0.390015\n",
       "4        comedy    3.000565  0.719212  0.517266\n",
       "5         crime    3.211015  0.700488  0.490683\n",
       "6   documentary    3.229273  0.990266  0.980627\n",
       "7         drama    3.187353  0.790183  0.624390\n",
       "8       fantasy    2.849830  0.816855  0.667253\n",
       "9      filmnoir    3.548351  0.832246  0.692633\n",
       "10       horror    2.730157  0.759747  0.577216\n",
       "11      musical    3.376423  0.520265  0.270676\n",
       "12      mystery    3.336814  0.734247  0.539118\n",
       "13      romance    3.244049  0.668985  0.447541\n",
       "14        scifi    3.165446  0.666164  0.443774\n",
       "15     thriller    3.136692  0.713087  0.508494\n",
       "16          war    3.489185  0.673311  0.453348\n",
       "17      western    3.185617  0.731890  0.535663"
      ]
     },
     "execution_count": 17,
     "metadata": {},
     "output_type": "execute_result"
    }
   ],
   "source": [
    "genresRatings"
   ]
  },
  {
   "cell_type": "markdown",
   "metadata": {},
   "source": [
    "### Which genre is the most loved? (i.e. has the highest average)\n",
    "\n",
    "Film Noir is the most loved genre with the highest average rating value of 3.548351"
   ]
  },
  {
   "cell_type": "code",
   "execution_count": 18,
   "metadata": {},
   "outputs": [
    {
     "data": {
      "text/html": [
       "<div>\n",
       "<style scoped>\n",
       "    .dataframe tbody tr th:only-of-type {\n",
       "        vertical-align: middle;\n",
       "    }\n",
       "\n",
       "    .dataframe tbody tr th {\n",
       "        vertical-align: top;\n",
       "    }\n",
       "\n",
       "    .dataframe thead th {\n",
       "        text-align: right;\n",
       "    }\n",
       "</style>\n",
       "<table border=\"1\" class=\"dataframe\">\n",
       "  <thead>\n",
       "    <tr style=\"text-align: right;\">\n",
       "      <th></th>\n",
       "      <th>Genre</th>\n",
       "      <th>Avg Rating</th>\n",
       "      <th>Std</th>\n",
       "      <th>Var</th>\n",
       "    </tr>\n",
       "  </thead>\n",
       "  <tbody>\n",
       "    <tr>\n",
       "      <th>9</th>\n",
       "      <td>filmnoir</td>\n",
       "      <td>3.548351</td>\n",
       "      <td>0.832246</td>\n",
       "      <td>0.692633</td>\n",
       "    </tr>\n",
       "  </tbody>\n",
       "</table>\n",
       "</div>"
      ],
      "text/plain": [
       "      Genre  Avg Rating       Std       Var\n",
       "9  filmnoir    3.548351  0.832246  0.692633"
      ]
     },
     "execution_count": 18,
     "metadata": {},
     "output_type": "execute_result"
    }
   ],
   "source": [
    "genresRatings.sort_values('Avg Rating', ascending = False).head(1)"
   ]
  },
  {
   "cell_type": "markdown",
   "metadata": {},
   "source": [
    "### Which genre is the most consistent? (i.e. has the lowest standard deviation)\n",
    "\n",
    "Musicals is the most consistent genre with the lowest standard deviation of 0.520265"
   ]
  },
  {
   "cell_type": "code",
   "execution_count": 19,
   "metadata": {},
   "outputs": [
    {
     "data": {
      "text/html": [
       "<div>\n",
       "<style scoped>\n",
       "    .dataframe tbody tr th:only-of-type {\n",
       "        vertical-align: middle;\n",
       "    }\n",
       "\n",
       "    .dataframe tbody tr th {\n",
       "        vertical-align: top;\n",
       "    }\n",
       "\n",
       "    .dataframe thead th {\n",
       "        text-align: right;\n",
       "    }\n",
       "</style>\n",
       "<table border=\"1\" class=\"dataframe\">\n",
       "  <thead>\n",
       "    <tr style=\"text-align: right;\">\n",
       "      <th></th>\n",
       "      <th>Genre</th>\n",
       "      <th>Avg Rating</th>\n",
       "      <th>Std</th>\n",
       "      <th>Var</th>\n",
       "    </tr>\n",
       "  </thead>\n",
       "  <tbody>\n",
       "    <tr>\n",
       "      <th>11</th>\n",
       "      <td>musical</td>\n",
       "      <td>3.376423</td>\n",
       "      <td>0.520265</td>\n",
       "      <td>0.270676</td>\n",
       "    </tr>\n",
       "  </tbody>\n",
       "</table>\n",
       "</div>"
      ],
      "text/plain": [
       "      Genre  Avg Rating       Std       Var\n",
       "11  musical    3.376423  0.520265  0.270676"
      ]
     },
     "execution_count": 19,
     "metadata": {},
     "output_type": "execute_result"
    }
   ],
   "source": [
    "genresRatings.sort_values('Std').head(1)"
   ]
  },
  {
   "cell_type": "markdown",
   "metadata": {},
   "source": [
    "### Bar chart of the average rating for each genre along with a whisker on each bar for the variance."
   ]
  },
  {
   "cell_type": "code",
   "execution_count": 20,
   "metadata": {},
   "outputs": [
    {
     "data": {
      "image/png": "[encoded data removed]",
      "text/plain": [
       "<Figure size 432x288 with 1 Axes>"
      ]
     },
     "metadata": {
      "needs_background": "light"
     },
     "output_type": "display_data"
    }
   ],
   "source": [
    "ax = genresRatings.plot.bar(x='Genre', y='Avg Rating', yerr= 'Var', align='center', alpha=0.5, ecolor='black', capsize=10)"
   ]
  },
  {
   "cell_type": "markdown",
   "metadata": {},
   "source": [
    "## Do customers tend to evaluate older movies with a higher rating than newer movies?"
   ]
  },
  {
   "cell_type": "markdown",
   "metadata": {},
   "source": [
    "#### First I sliced the strings in the release date column and converted them to floats:"
   ]
  },
  {
   "cell_type": "code",
   "execution_count": 21,
   "metadata": {},
   "outputs": [],
   "source": [
    "items['year'] = items['releasedate'].str[-4:]"
   ]
  },
  {
   "cell_type": "code",
   "execution_count": 22,
   "metadata": {},
   "outputs": [],
   "source": [
    "items['year'] = items['year'].astype(float)"
   ]
  },
  {
   "cell_type": "markdown",
   "metadata": {},
   "source": [
    "#### Then I removed the movie that had an unknown release date:"
   ]
  },
  {
   "cell_type": "code",
   "execution_count": 23,
   "metadata": {},
   "outputs": [],
   "source": [
    "items = items[-items['year'].isna()]"
   ]
  },
  {
   "cell_type": "markdown",
   "metadata": {},
   "source": [
    "#### Then I create a pivot table to calcuate the average rating for each movie and reset the index"
   ]
  },
  {
   "cell_type": "code",
   "execution_count": 24,
   "metadata": {},
   "outputs": [],
   "source": [
    "avgRatings = ratings.pivot_table(index='itemid', values = 'rating')"
   ]
  },
  {
   "cell_type": "code",
   "execution_count": 25,
   "metadata": {},
   "outputs": [],
   "source": [
    "avgRatings = avgRatings.reset_index()"
   ]
  },
  {
   "cell_type": "markdown",
   "metadata": {},
   "source": [
    "####  I had to merge the two dataframes because they were different lengths because of the movie I removed, and then I used the two columns from the merged dataframe to create a new dataframe with just the year and the average rating:"
   ]
  },
  {
   "cell_type": "code",
   "execution_count": 26,
   "metadata": {},
   "outputs": [],
   "source": [
    "merged3 = pd.merge(avgRatings, items, on = 'itemid')"
   ]
  },
  {
   "cell_type": "code",
   "execution_count": 27,
   "metadata": {},
   "outputs": [],
   "source": [
    "yearRating = merged3[['year','rating']]"
   ]
  },
  {
   "cell_type": "markdown",
   "metadata": {},
   "source": [
    "####  Then I used the linear regression functions from your examples to run the linear regression  and plot it with the data but after using stats to determine $R^2$ I realized this was probably not necessary.  But it worked so I left it in."
   ]
  },
  {
   "cell_type": "code",
   "execution_count": 28,
   "metadata": {},
   "outputs": [],
   "source": [
    "def sum_of_squares(avals, bvals):\n",
    "        assert len(avals) == len(bvals)\n",
    "        amean = sum(avals) / len(avals)\n",
    "        bmean = sum(bvals) / len(bvals)\n",
    "        total = 0\n",
    "        for i in range(len(avals)):\n",
    "            total += (avals[i]-amean) * (bvals[i] - bmean)\n",
    "        return total"
   ]
  },
  {
   "cell_type": "code",
   "execution_count": 29,
   "metadata": {},
   "outputs": [],
   "source": [
    "def find_slope(xvals, yvals):\n",
    "    return sum_of_squares(xvals, yvals) / sum_of_squares(xvals, xvals)"
   ]
  },
  {
   "cell_type": "code",
   "execution_count": 30,
   "metadata": {},
   "outputs": [],
   "source": [
    "def find_intercept(xvals, yvals):\n",
    "    slope = find_slope(xvals, yvals)\n",
    "    ymean = sum(yvals) / len(yvals)\n",
    "    xmean = sum(xvals) / len(xvals)\n",
    "    return ymean - slope * xmean"
   ]
  },
  {
   "cell_type": "code",
   "execution_count": 31,
   "metadata": {},
   "outputs": [],
   "source": [
    "def linear_regression(xvals, yvals):\n",
    "    slope = find_slope(xvals, yvals)\n",
    "    intercept = find_intercept(xvals, yvals)\n",
    "    return [slope, intercept]"
   ]
  },
  {
   "cell_type": "code",
   "execution_count": 32,
   "metadata": {},
   "outputs": [],
   "source": [
    "slopeIntercept = linear_regression(yearRating['year'], yearRating['rating'])"
   ]
  },
  {
   "cell_type": "code",
   "execution_count": 33,
   "metadata": {},
   "outputs": [],
   "source": [
    "slope = slopeIntercept[0]"
   ]
  },
  {
   "cell_type": "code",
   "execution_count": 34,
   "metadata": {},
   "outputs": [],
   "source": [
    "intercept = slopeIntercept[1]"
   ]
  },
  {
   "cell_type": "markdown",
   "metadata": {},
   "source": [
    "### Plot of the year (y-axis) v.s. the average rating (x-axis) and the regression line."
   ]
  },
  {
   "cell_type": "code",
   "execution_count": 35,
   "metadata": {},
   "outputs": [
    {
     "data": {
      "text/plain": [
       "[<matplotlib.lines.Line2D at 0x2a884e7dd60>,\n",
       " <matplotlib.lines.Line2D at 0x2a884e7dd00>]"
      ]
     },
     "execution_count": 35,
     "metadata": {},
     "output_type": "execute_result"
    },
    {
     "data": {
      "image/png": "[encoded data removed]",
      "text/plain": [
       "<Figure size 432x288 with 1 Axes>"
      ]
     },
     "metadata": {
      "needs_background": "light"
     },
     "output_type": "display_data"
    }
   ],
   "source": [
    "plt.plot(yearRating['year'], yearRating['rating'], 'b+', yearRating['year'], yearRating['year'] * slope + intercept, 'r-')"
   ]
  },
  {
   "cell_type": "markdown",
   "metadata": {},
   "source": [
    "####  I used this code to find r and then squared it."
   ]
  },
  {
   "cell_type": "code",
   "execution_count": 36,
   "metadata": {},
   "outputs": [],
   "source": [
    "slope, intercept, r, p, se = stats.linregress(yearRating['year'], yearRating['rating'])"
   ]
  },
  {
   "cell_type": "code",
   "execution_count": 37,
   "metadata": {},
   "outputs": [
    {
     "data": {
      "text/plain": [
       "0.05650353407304701"
      ]
     },
     "execution_count": 37,
     "metadata": {},
     "output_type": "execute_result"
    }
   ],
   "source": [
    "r*r"
   ]
  },
  {
   "cell_type": "markdown",
   "metadata": {},
   "source": [
    "### Conclusion\n",
    "\n",
    "####  Based on the graph and an $R^2$ value of 0.0565, I conclude that there is no relationship between the year a movie was released and the rating it received in this data set.  The $R^2$ is close to zero and the graph does not display a strong correlation between years and ratings."
   ]
  },
  {
   "cell_type": "code",
   "execution_count": null,
   "metadata": {},
   "outputs": [],
   "source": []
  }
 ],
 "metadata": {
  "kernelspec": {
   "display_name": "Python 3",
   "language": "python",
   "name": "python3"
  },
  "language_info": {
   "codemirror_mode": {
    "name": "ipython",
    "version": 3
   },
   "file_extension": ".py",
   "mimetype": "text/x-python",
   "name": "python",
   "nbconvert_exporter": "python",
   "pygments_lexer": "ipython3",
   "version": "3.8.8"
  }
 },
 "nbformat": 4,
 "nbformat_minor": 1
}
